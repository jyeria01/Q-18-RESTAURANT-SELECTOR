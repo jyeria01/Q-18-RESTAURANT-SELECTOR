{
 "cells": [
  {
   "cell_type": "markdown",
   "id": "8fa08835",
   "metadata": {},
   "source": [
    "## Q 18 - RESTAURANT SELECTOR"
   ]
  },
  {
   "cell_type": "code",
   "execution_count": 1,
   "id": "f8cbad4a",
   "metadata": {},
   "outputs": [],
   "source": [
    "# Collect user preferences\n",
    "# Retrieve resstuarant data\n",
    "# filter restuarants\n",
    "# Display restuarants filtered through preferences"
   ]
  },
  {
   "cell_type": "code",
   "execution_count": 2,
   "id": "4dc6d2d7",
   "metadata": {},
   "outputs": [],
   "source": [
    "# Joe's Gourmet Burgers - Vegetarian: No, Vegan: No, Gluten-Free: No\n",
    "# Main Street Pizza Company - Vegetarian: Yes, Vegan: No, Gluten-Free: Yes\n",
    "# Corner cafe - Vegetarian: Yes, Vegan: Yes, Gluten-Free: Yes\n",
    "# Mama's Fine Italian - Vegetarian: Yes, Vegan: No, Gluten-Free: No\n",
    "# The Chef's Kitchen - Vegetarian: Yes, Vegan: Yes, Gluten-Free: Yes"
   ]
  },
  {
   "cell_type": "code",
   "execution_count": 3,
   "id": "8956826f",
   "metadata": {},
   "outputs": [
    {
     "name": "stdout",
     "output_type": "stream",
     "text": [
      "Is anyone in your party a vegetarian? \n",
      "yes\n"
     ]
    }
   ],
   "source": [
    "# asking the required questions to find restuarants\n",
    "print(\"Is anyone in your party a vegetarian? \")\n",
    "vegetarian = input().lower().strip() # Following along with the walkthrough video"
   ]
  },
  {
   "cell_type": "code",
   "execution_count": 4,
   "id": "26bc9ebb",
   "metadata": {},
   "outputs": [
    {
     "name": "stdout",
     "output_type": "stream",
     "text": [
      "Is anyone in your party a vegan? \n",
      "no\n"
     ]
    }
   ],
   "source": [
    "print(\"Is anyone in your party a vegan? \")\n",
    "vegan = input().lower().strip()"
   ]
  },
  {
   "cell_type": "code",
   "execution_count": 5,
   "id": "46f20569",
   "metadata": {},
   "outputs": [
    {
     "name": "stdout",
     "output_type": "stream",
     "text": [
      "Is anyone in your party a glute-free? \n",
      "yes\n"
     ]
    }
   ],
   "source": [
    "print(\"Is anyone in your party a glute-free? \")\n",
    "gluten_free = input().lower().strip()"
   ]
  },
  {
   "cell_type": "code",
   "execution_count": 6,
   "id": "15891fed",
   "metadata": {},
   "outputs": [
    {
     "name": "stdout",
     "output_type": "stream",
     "text": [
      "Here are your restuarant choices: \n"
     ]
    }
   ],
   "source": [
    "print(\"Here are your restuarant choices: \")"
   ]
  },
  {
   "cell_type": "code",
   "execution_count": 7,
   "id": "fc570945",
   "metadata": {},
   "outputs": [
    {
     "name": "stdout",
     "output_type": "stream",
     "text": [
      "Main Street Pizza Company\n",
      "Corner Cafe\n",
      "The Chef's Kitchen\n"
     ]
    }
   ],
   "source": [
    "if vegetarian != \"yes\" and vegan != \"yes\" and gluten_free != \"yes\": # forgot colon at the end at first and received error\n",
    "    print(\"Joe's Gourmet Burgers\")\n",
    "if vegan == \"no\":\n",
    "    print(\"Main Street Pizza Company\")\n",
    "    \n",
    "print(\"Corner Cafe\")\n",
    "print(\"The Chef's Kitchen\")"
   ]
  },
  {
   "cell_type": "code",
   "execution_count": null,
   "id": "2046ff6a",
   "metadata": {},
   "outputs": [],
   "source": []
  }
 ],
 "metadata": {
  "kernelspec": {
   "display_name": "Python 3 (ipykernel)",
   "language": "python",
   "name": "python3"
  },
  "language_info": {
   "codemirror_mode": {
    "name": "ipython",
    "version": 3
   },
   "file_extension": ".py",
   "mimetype": "text/x-python",
   "name": "python",
   "nbconvert_exporter": "python",
   "pygments_lexer": "ipython3",
   "version": "3.11.4"
  }
 },
 "nbformat": 4,
 "nbformat_minor": 5
}
