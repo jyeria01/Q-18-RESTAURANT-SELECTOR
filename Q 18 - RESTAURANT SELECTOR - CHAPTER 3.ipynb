{
 "cells": [
  {
   "cell_type": "markdown",
   "id": "6be33c7a",
   "metadata": {},
   "source": [
    "## Q 18 - RESTAURANT SELECTOR"
   ]
  },
  {
   "cell_type": "code",
   "execution_count": null,
   "id": "428eec70",
   "metadata": {},
   "outputs": [],
   "source": [
    "# Collect user preferences\n",
    "# Retrieve resstuarant data\n",
    "# filter restua"
   ]
  }
 ],
 "metadata": {
  "kernelspec": {
   "display_name": "Python 3 (ipykernel)",
   "language": "python",
   "name": "python3"
  },
  "language_info": {
   "codemirror_mode": {
    "name": "ipython",
    "version": 3
   },
   "file_extension": ".py",
   "mimetype": "text/x-python",
   "name": "python",
   "nbconvert_exporter": "python",
   "pygments_lexer": "ipython3",
   "version": "3.11.4"
  }
 },
 "nbformat": 4,
 "nbformat_minor": 5
}
