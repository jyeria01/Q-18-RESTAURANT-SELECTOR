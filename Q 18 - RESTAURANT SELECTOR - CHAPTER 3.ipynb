{
 "cells": [
  {
   "cell_type": "markdown",
   "id": "ce2c09aa",
   "metadata": {},
   "source": [
    "## Q 18 - RESTAURANT SELECTOR"
   ]
  },
  {
   "cell_type": "code",
   "execution_count": 1,
   "id": "62f8b9e3",
   "metadata": {},
   "outputs": [],
   "source": [
    "# Collect user preferences\n",
    "# Retrieve resstuarant data\n",
    "# filter restuarants\n",
    "# Display restuarants filtered through preferences"
   ]
  },
  {
   "cell_type": "code",
   "execution_count": 2,
   "id": "2ae77fce",
   "metadata": {},
   "outputs": [],
   "source": [
    "# Joe's Gourmet Burgers - Vegetarian: No, Vegan: No, Gluten-Free: No\n",
    "# Main Street Pizza Company - Vegetarian: Yes, Vegan: No, Gluten-Free: Yes\n",
    "# Corner cafe - Vegetarian: Yes, Vegan: Yes, Gluten-Free: Yes\n",
    "# Mama's Fine Italian - Vegetarian: Yes, Vegan: No, Gluten-Free: No\n",
    "# The Chef's Kitchen - Vegetarian: Yes, Vegan: Yes, Gluten-Free: Yes"
   ]
  },
  {
   "cell_type": "code",
   "execution_count": 3,
   "id": "b9bad5c3",
   "metadata": {},
   "outputs": [
    {
     "name": "stdout",
     "output_type": "stream",
     "text": [
      "Is anyone in your party a vegetarian? \n",
      "yes\n"
     ]
    }
   ],
   "source": [
    "# asking the required questions to find restuarants\n",
    "print(\"Is anyone in your party a vegetarian? \")\n",
    "vegetarian = input().lower().strip() # Following along with the walkthrough video"
   ]
  },
  {
   "cell_type": "code",
   "execution_count": 4,
   "id": "7a3a5ff6",
   "metadata": {},
   "outputs": [
    {
     "name": "stdout",
     "output_type": "stream",
     "text": [
      "Is anyone in your party a vegan? \n",
      "no\n"
     ]
    }
   ],
   "source": [
    "print(\"Is anyone in your party a vegan? \")\n",
    "vegan = input().lower().strip()"
   ]
  },
  {
   "cell_type": "code",
   "execution_count": 5,
   "id": "e6e7cd96",
   "metadata": {},
   "outputs": [
    {
     "name": "stdout",
     "output_type": "stream",
     "text": [
      "Is anyone in your party a glute-free? \n",
      "no\n"
     ]
    }
   ],
   "source": [
    "print(\"Is anyone in your party a glute-free? \")\n",
    "gluten_free = input().lower().strip()"
   ]
  },
  {
   "cell_type": "code",
   "execution_count": 6,
   "id": "094f6446",
   "metadata": {},
   "outputs": [
    {
     "name": "stdout",
     "output_type": "stream",
     "text": [
      "Here are your restuarant choices: \n"
     ]
    }
   ],
   "source": [
    "print(\"Here are your restuarant choices: \")"
   ]
  },
  {
   "cell_type": "code",
   "execution_count": 7,
   "id": "5dd9ca33",
   "metadata": {},
   "outputs": [
    {
     "name": "stdout",
     "output_type": "stream",
     "text": [
      "Main Street Pizza Company\n",
      "Mama's Fine Italian\n",
      "Corner Cafe\n",
      "The Chef's Kitchen\n"
     ]
    }
   ],
   "source": [
    "if vegetarian != \"yes\" and vegan != \"yes\" and gluten_free != \"yes\": # forgot colon at the end at first and received error\n",
    "    print(\"Joe's Gourmet Burgers\")\n",
    "    \n",
    "if vegan == \"no\":\n",
    "    print(\"Main Street Pizza Company\")\n",
    "\n",
    "if vegan ==\"no\" and gluten_free == \"no\":\n",
    "    print(\"Mama's Fine Italian\")\n",
    "    \n",
    "print(\"Corner Cafe\")\n",
    "print(\"The Chef's Kitchen\")"
   ]
  },
  {
   "cell_type": "code",
   "execution_count": null,
   "id": "e8dc05ae",
   "metadata": {},
   "outputs": [],
   "source": []
  }
 ],
 "metadata": {
  "kernelspec": {
   "display_name": "Python 3 (ipykernel)",
   "language": "python",
   "name": "python3"
  },
  "language_info": {
   "codemirror_mode": {
    "name": "ipython",
    "version": 3
   },
   "file_extension": ".py",
   "mimetype": "text/x-python",
   "name": "python",
   "nbconvert_exporter": "python",
   "pygments_lexer": "ipython3",
   "version": "3.11.4"
  }
 },
 "nbformat": 4,
 "nbformat_minor": 5
}
