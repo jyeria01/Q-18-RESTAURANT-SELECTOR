{
 "cells": [
  {
   "cell_type": "markdown",
   "id": "55de278f",
   "metadata": {},
   "source": [
    "## Q 18 - RESTAURANT SELECTOR"
   ]
  },
  {
   "cell_type": "code",
   "execution_count": 1,
   "id": "ce4ce907",
   "metadata": {},
   "outputs": [],
   "source": [
    "# Collect user preferences\n",
    "# Retrieve resstuarant data\n",
    "# filter restuarants\n",
    "# Display restuarants filtered through preferences"
   ]
  },
  {
   "cell_type": "code",
   "execution_count": 2,
   "id": "8b5b8700",
   "metadata": {},
   "outputs": [],
   "source": [
    "# Joe's Gourmet Burgers - Vegetarian: No, Vegan: No, Gluten-Free: No\n",
    "# Main Stree Pizza Company - Vegetarian: Yes, Vegan: No, Gluten-Free: Yes\n",
    "# Corner cafe - Vegetarian: Yes, Vegan: Yes, Gluten-Free: Yes\n",
    "# Mama's Fine Italian - Vegetarian: Yes, Vegan: No, Gluten-Free: No\n",
    "# The Chef's Kitchen - Vegetarian: Yes, Vegan: Yes, Gluten-Free: Yes"
   ]
  },
  {
   "cell_type": "code",
   "execution_count": 3,
   "id": "ad3ff5d9",
   "metadata": {},
   "outputs": [
    {
     "name": "stdout",
     "output_type": "stream",
     "text": [
      "Is anyone in your party a vegetarian? \n",
      "yes\n"
     ]
    }
   ],
   "source": [
    "# asking the required questions to find restuarants\n",
    "print(\"Is anyone in your party a vegetarian? \")\n",
    "vegetarian = input().lower().strip() # Following along with the walkthrough video"
   ]
  },
  {
   "cell_type": "code",
   "execution_count": 4,
   "id": "27beb3d8",
   "metadata": {},
   "outputs": [
    {
     "name": "stdout",
     "output_type": "stream",
     "text": [
      "Is anyone in your party a vegan? \n",
      "no\n"
     ]
    }
   ],
   "source": [
    "print(\"Is anyone in your party a vegan? \")\n",
    "vegan = input().lower().strip()"
   ]
  },
  {
   "cell_type": "code",
   "execution_count": 5,
   "id": "e5c51262",
   "metadata": {},
   "outputs": [
    {
     "name": "stdout",
     "output_type": "stream",
     "text": [
      "Is anyone in your party a glute-free? \n",
      "no\n"
     ]
    }
   ],
   "source": [
    "print(\"Is anyone in your party a glute-free? \")\n",
    "gluten_free = input().lower().strip()"
   ]
  },
  {
   "cell_type": "code",
   "execution_count": 6,
   "id": "9a0a640c",
   "metadata": {},
   "outputs": [
    {
     "name": "stdout",
     "output_type": "stream",
     "text": [
      "Here are your restuarant choices: \n"
     ]
    }
   ],
   "source": [
    "print(\"Here are your restuarant choices: \")"
   ]
  },
  {
   "cell_type": "code",
   "execution_count": 7,
   "id": "7aa96f09",
   "metadata": {},
   "outputs": [
    {
     "ename": "SyntaxError",
     "evalue": "expected ':' (3070595340.py, line 1)",
     "output_type": "error",
     "traceback": [
      "\u001b[1;36m  Cell \u001b[1;32mIn[7], line 1\u001b[1;36m\u001b[0m\n\u001b[1;33m    if vegetarian != \"yes\" and vegan != \"yes\" and gluten_free != \"yes\"\u001b[0m\n\u001b[1;37m                                                                      ^\u001b[0m\n\u001b[1;31mSyntaxError\u001b[0m\u001b[1;31m:\u001b[0m expected ':'\n"
     ]
    }
   ],
   "source": [
    "if vegetarian != \"yes\" and vegan != \"yes\" and gluten_free != \"yes\" # forgot col\n",
    "    print(\"Joe's Gourmet Burgers\")\n",
    "print(\"Corner Cafe\")\n",
    "print(\"The Chef's Kitchen\")"
   ]
  },
  {
   "cell_type": "code",
   "execution_count": null,
   "id": "c5785567",
   "metadata": {},
   "outputs": [],
   "source": []
  }
 ],
 "metadata": {
  "kernelspec": {
   "display_name": "Python 3 (ipykernel)",
   "language": "python",
   "name": "python3"
  },
  "language_info": {
   "codemirror_mode": {
    "name": "ipython",
    "version": 3
   },
   "file_extension": ".py",
   "mimetype": "text/x-python",
   "name": "python",
   "nbconvert_exporter": "python",
   "pygments_lexer": "ipython3",
   "version": "3.11.4"
  }
 },
 "nbformat": 4,
 "nbformat_minor": 5
}
