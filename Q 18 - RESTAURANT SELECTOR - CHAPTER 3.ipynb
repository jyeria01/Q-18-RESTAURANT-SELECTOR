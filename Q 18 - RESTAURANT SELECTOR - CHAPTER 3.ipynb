{
 "cells": [
  {
   "cell_type": "markdown",
   "id": "1523d31e",
   "metadata": {},
   "source": [
    "## Q 18 - RESTAURANT SELECTOR"
   ]
  },
  {
   "cell_type": "code",
   "execution_count": 1,
   "id": "aa0ebd13",
   "metadata": {},
   "outputs": [],
   "source": [
    "# Collect user preferences\n",
    "# Retrieve resstuarant data\n",
    "# filter restuarants\n",
    "# Display restuarants filtered through preferences"
   ]
  },
  {
   "cell_type": "code",
   "execution_count": 2,
   "id": "879afc89",
   "metadata": {},
   "outputs": [],
   "source": [
    "# Joe's Gourmet Burgers - Vegetarian: No, Vegan: No, Gluten-Free: No\n",
    "# Main Stree Pizza Company - Vegetarian: Yes, Vegan: No, Gluten-Free: Yes\n",
    "# Corner cafe - Vegetarian: Yes, Vegan: Yes, Gluten-Free: Yes\n",
    "# Mama's Fine Italian - Vegetarian: Yes, Vegan: No, Gluten-Free: No\n",
    "# The Chef's Kitchen - Vegetarian: Yes, Vegan: Yes, Gluten-Free: Yes"
   ]
  },
  {
   "cell_type": "code",
   "execution_count": 7,
   "id": "6baf0225",
   "metadata": {},
   "outputs": [
    {
     "name": "stdout",
     "output_type": "stream",
     "text": [
      "Is anyone in your pary a vegetarian? \n",
      "NO\n"
     ]
    }
   ],
   "source": [
    "# asking the required questions to find restuarants\n",
    "print(\"Is anyone in your party a vegetarian? \")\n",
    "vegetarian = input().lower().strip() # Following along with the walkthrough video"
   ]
  },
  {
   "cell_type": "code",
   "execution_count": 8,
   "id": "3f4caae7",
   "metadata": {},
   "outputs": [
    {
     "name": "stdout",
     "output_type": "stream",
     "text": [
      "Is anyone in your pary a vegan? \n",
      "Yes\n"
     ]
    }
   ],
   "source": [
    "print(\"Is anyone in your party a vegan? \")\n",
    "vegan = input().lower().strip()"
   ]
  },
  {
   "cell_type": "code",
   "execution_count": null,
   "id": "7e4294ed",
   "metadata": {},
   "outputs": [
    {
     "name": "stdout",
     "output_type": "stream",
     "text": [
      "Is anyone in your party a glute-free? \n"
     ]
    }
   ],
   "source": [
    "print(\"Is anyone in your party a glute-free? \")\n",
    "gluten_free = input().lower().strip()"
   ]
  },
  {
   "cell_type": "code",
   "execution_count": null,
   "id": "51e95d4c",
   "metadata": {},
   "outputs": [],
   "source": []
  }
 ],
 "metadata": {
  "kernelspec": {
   "display_name": "Python 3 (ipykernel)",
   "language": "python",
   "name": "python3"
  },
  "language_info": {
   "codemirror_mode": {
    "name": "ipython",
    "version": 3
   },
   "file_extension": ".py",
   "mimetype": "text/x-python",
   "name": "python",
   "nbconvert_exporter": "python",
   "pygments_lexer": "ipython3",
   "version": "3.11.4"
  }
 },
 "nbformat": 4,
 "nbformat_minor": 5
}
