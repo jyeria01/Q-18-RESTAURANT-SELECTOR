{
 "cells": [
  {
   "cell_type": "markdown",
   "id": "5af6b357",
   "metadata": {},
   "source": [
    "## Q 18 - RESTAURANT SELECTOR"
   ]
  },
  {
   "cell_type": "code",
   "execution_count": 1,
   "id": "608cb1ba",
   "metadata": {},
   "outputs": [],
   "source": [
    "# Collect user preferences\n",
    "# Retrieve resstuarant data\n",
    "# filter restuarants\n",
    "# Display restuarants filtered through preferences"
   ]
  },
  {
   "cell_type": "code",
   "execution_count": null,
   "id": "7d40b908",
   "metadata": {},
   "outputs": [],
   "source": [
    "# Joe's Gourmet Burgers - Vegetarian:No, Vegan: No, Gluten-Free: No\n",
    "# Main Stree Pizza Company - Vegetarian:No, Vegan: No, Gluten-Free: No\n",
    "# Corner cafe - Vegetarian:No, Vegan: No, Gluten-Free: No\n",
    "# Mama's Fine Italian - Vegetarian:No, Vegan: No, Gluten-Free: No\n",
    "# The Chef's Kitchen - Vegetarian:No, Vegan: No, Gluten-Free: No"
   ]
  },
  {
   "cell_type": "code",
   "execution_count": 2,
   "id": "d599848b",
   "metadata": {},
   "outputs": [
    {
     "name": "stdout",
     "output_type": "stream",
     "text": [
      "Is anyone in your pary a vegetarian? \n",
      "Yes\n"
     ]
    }
   ],
   "source": [
    "# asking the required questions to find restuarants\n",
    "print(\"Is anyone in your pary a vegetarian? \")\n",
    "vegetarian = input().lower().strip() # Following along with the walkthrough video"
   ]
  },
  {
   "cell_type": "code",
   "execution_count": 3,
   "id": "f4694369",
   "metadata": {},
   "outputs": [
    {
     "name": "stdout",
     "output_type": "stream",
     "text": [
      "Is anyone in your pary a vegan? \n",
      "yes\n"
     ]
    }
   ],
   "source": [
    "print(\"Is anyone in your pary a vegan? \")\n",
    "vegan = input().lower().strip()"
   ]
  },
  {
   "cell_type": "code",
   "execution_count": 4,
   "id": "e3ad4833",
   "metadata": {},
   "outputs": [
    {
     "name": "stdout",
     "output_type": "stream",
     "text": [
      "Is anyone in your pary a Gluten free? \n",
      "No\n"
     ]
    }
   ],
   "source": [
    "print(\"Is anyone in your pary a glute-free? \")\n",
    "gluten_free = input().lower().strip()"
   ]
  },
  {
   "cell_type": "code",
   "execution_count": null,
   "id": "50354db1",
   "metadata": {},
   "outputs": [],
   "source": []
  }
 ],
 "metadata": {
  "kernelspec": {
   "display_name": "Python 3 (ipykernel)",
   "language": "python",
   "name": "python3"
  },
  "language_info": {
   "codemirror_mode": {
    "name": "ipython",
    "version": 3
   },
   "file_extension": ".py",
   "mimetype": "text/x-python",
   "name": "python",
   "nbconvert_exporter": "python",
   "pygments_lexer": "ipython3",
   "version": "3.11.4"
  }
 },
 "nbformat": 4,
 "nbformat_minor": 5
}
