{
 "cells": [
  {
   "cell_type": "markdown",
   "id": "6f05e17e",
   "metadata": {},
   "source": [
    "## Q 18 - RESTAURANT SELECTOR"
   ]
  },
  {
   "cell_type": "code",
   "execution_count": 1,
   "id": "3c5b8344",
   "metadata": {},
   "outputs": [],
   "source": [
    "# Collect user preferences\n",
    "# Retrieve resstuarant data\n",
    "# filter restuarants\n",
    "# Display restuarants filtered through preferences"
   ]
  },
  {
   "cell_type": "code",
   "execution_count": 2,
   "id": "0d52f10d",
   "metadata": {},
   "outputs": [],
   "source": [
    "# Joe's Gourmet Burgers - Vegetarian: No, Vegan: No, Gluten-Free: No\n",
    "# Main Stree Pizza Company - Vegetarian: Yes, Vegan: No, Gluten-Free: Yes\n",
    "# Corner cafe - Vegetarian: Yes, Vegan: Yes, Gluten-Free: Yes\n",
    "# Mama's Fine Italian - Vegetarian: Yes, Vegan: No, Gluten-Free: No\n",
    "# The Chef's Kitchen - Vegetarian: Yes, Vegan: Yes, Gluten-Free: Yes"
   ]
  },
  {
   "cell_type": "code",
   "execution_count": 3,
   "id": "8e9e9f5e",
   "metadata": {},
   "outputs": [
    {
     "name": "stdout",
     "output_type": "stream",
     "text": [
      "Is anyone in your party a vegetarian? \n",
      "yes\n"
     ]
    }
   ],
   "source": [
    "# asking the required questions to find restuarants\n",
    "print(\"Is anyone in your party a vegetarian? \")\n",
    "vegetarian = input().lower().strip() # Following along with the walkthrough video"
   ]
  },
  {
   "cell_type": "code",
   "execution_count": 4,
   "id": "68360f72",
   "metadata": {},
   "outputs": [
    {
     "name": "stdout",
     "output_type": "stream",
     "text": [
      "Is anyone in your party a vegan? \n",
      "yes\n"
     ]
    }
   ],
   "source": [
    "print(\"Is anyone in your party a vegan? \")\n",
    "vegan = input().lower().strip()"
   ]
  },
  {
   "cell_type": "code",
   "execution_count": 5,
   "id": "30e25dc1",
   "metadata": {},
   "outputs": [
    {
     "name": "stdout",
     "output_type": "stream",
     "text": [
      "Is anyone in your party a glute-free? \n",
      "yes\n"
     ]
    }
   ],
   "source": [
    "print(\"Is anyone in your party a glute-free? \")\n",
    "gluten_free = input().lower().strip()"
   ]
  },
  {
   "cell_type": "code",
   "execution_count": 6,
   "id": "e4fbf656",
   "metadata": {},
   "outputs": [
    {
     "name": "stdout",
     "output_type": "stream",
     "text": [
      "Here are your restuarant choices: \n"
     ]
    }
   ],
   "source": [
    "print(\"Here are your restuarant choices: \")"
   ]
  },
  {
   "cell_type": "code",
   "execution_count": 7,
   "id": "5c8c25da",
   "metadata": {},
   "outputs": [
    {
     "name": "stdout",
     "output_type": "stream",
     "text": [
      "Corner Cafe\n"
     ]
    }
   ],
   "source": [
    "if vegetarian != \"yes\" and vegan != \"yes\" and gluten_free != \"yes\"\n",
    "    print(\"Joe's Gourmet Burgers\")\n",
    "print(\"Corner Cafe\")\n",
    "print(\"The Chef's Kitchen\")"
   ]
  },
  {
   "cell_type": "code",
   "execution_count": null,
   "id": "93c3567f",
   "metadata": {},
   "outputs": [],
   "source": []
  }
 ],
 "metadata": {
  "kernelspec": {
   "display_name": "Python 3 (ipykernel)",
   "language": "python",
   "name": "python3"
  },
  "language_info": {
   "codemirror_mode": {
    "name": "ipython",
    "version": 3
   },
   "file_extension": ".py",
   "mimetype": "text/x-python",
   "name": "python",
   "nbconvert_exporter": "python",
   "pygments_lexer": "ipython3",
   "version": "3.11.4"
  }
 },
 "nbformat": 4,
 "nbformat_minor": 5
}
